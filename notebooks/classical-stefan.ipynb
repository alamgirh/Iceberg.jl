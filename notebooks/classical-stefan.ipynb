{
 "metadata": {
  "language": "Julia",
  "name": "",
  "signature": "sha256:a50cb317ba70dea9313e66869e8cbdd6278e51c3b94f13086ab343743ed7723c"
 },
 "nbformat": 3,
 "nbformat_minor": 0,
 "worksheets": [
  {
   "cells": [
    {
     "cell_type": "heading",
     "level": 1,
     "metadata": {},
     "source": [
      "Solution to the classical Stefan problem in one dimension"
     ]
    },
    {
     "cell_type": "markdown",
     "metadata": {},
     "source": [
      "The problem can be written as\n",
      "\\begin{align}\n",
      "    \\frac{\\partial T}{\\partial t} &= \\frac{\\kappa_s}{\\rho_s c_{p,s}} \\frac{\\partial^2T}{\\partial x^2} &\n",
      "    x > f(t)\\\\\n",
      "    \\frac{\\partial T}{\\partial t} &= \\frac{\\kappa_\\ell}{\\rho_\\ell c_{p,\\ell}} \\frac{\\partial^2T}{\\partial x^2} &\n",
      "    x < f(t)\\\\\n",
      "    T &= T_\\text{melt} & x = f(t) \\\\\n",
      "    \\rho \\lambda_f \\frac{\\partial f(t)}{\\partial t} &= \\kappa_s \\frac{\\partial T^+}{\\partial x}\n",
      "    - \\kappa_\\ell \\frac{\\partial T^-}{\\partial x}\n",
      "\\end{align}\n",
      "where we want to solve to for the front position $f(t)$, and probably the temperature $T(x,t)$ while we're at it."
     ]
    },
    {
     "cell_type": "markdown",
     "metadata": {},
     "source": [
      "Take boundary conditions\n",
      "\\begin{align}\n",
      "    T(0,t) &= T_1 \\\\\n",
      "    T(\\infty,t) &= T_2 \\\\\n",
      "\\end{align}\n",
      "where $T_1 > T_\\text{melt} > T_2$.\n",
      "\n",
      "The solution is\n",
      "\\begin{equation}\n",
      "    f(t) = 2\\lambda_f \\sqrt{\\frac{\\kappa_\\ell}{\\rho_\\ell c_{p,\\ell}} t}\n",
      "\\end{equation}"
     ]
    },
    {
     "cell_type": "code",
     "collapsed": false,
     "input": [
      "using ASCIIPlots\n",
      "kappal = 1.0\n",
      "rhol = 1.0\n",
      "cpl = 1.0\n",
      "lambdaf = 1.0\n",
      "\n",
      "t = linspace(0, 1.0)\n",
      "alpha = kappal / (rhol * cpl)\n",
      "xf = 2lambdaf * sqrt(alpha * t)\n",
      "\n",
      "lineplot(t, xf)"
     ],
     "language": "python",
     "metadata": {},
     "outputs": [
      {
       "output_type": "stream",
       "stream": "stderr",
       "text": [
        "WARNING: A::Array - x::Number is deprecated, use A .- x instead.\n",
        " in lineplot at /home/natw/.julia/v0.3/ASCIIPlots/src/lineplot.jl:23\n",
        " in include_string at loading.jl:97\n",
        "WARNING: A::Array - x::Number is deprecated, use A .- x instead.\n",
        " in lineplot at /home/natw/.julia/v0.3/ASCIIPlots/src/lineplot.jl:25\n",
        " in include_string at loading.jl:97\n"
       ]
      },
      {
       "output_type": "stream",
       "stream": "stderr",
       "text": [
        "WARNING: A::Array + x::Number is deprecated, use A .+ x instead.\n",
        " in lineplot at /home/natw/.julia/v0.3/ASCIIPlots/src/lineplot.jl:29\n",
        " in include_string at loading.jl:97\n",
        "WARNING: A::Array + x::Number is deprecated, use A .+ x instead.\n",
        " in lineplot at /home/natw/.julia/v0.3/ASCIIPlots/src/lineplot.jl:30\n",
        " in include_string at loading.jl:97\n"
       ]
      },
      {
       "metadata": {},
       "output_type": "pyout",
       "prompt_number": 4,
       "text": [
        "\n",
        "\t-------------------------------------------------------------\n",
        "\t|                                                           /| 2.00\n",
        "\t|                                                     ////// |\n",
        "\t|                                               //////       |\n",
        "\t|                                          //////            |\n",
        "\t|                                    //////                  |\n",
        "\t|                                /////                       |\n",
        "\t|                            ////                            |\n",
        "\t|                       /////                                |\n",
        "\t|                    ////                                    |\n",
        "\t|                ////                                        |\n",
        "\t|             ////                                           |\n",
        "\t|          ////                                              |\n",
        "\t|        ///                                                 |\n",
        "\t|     ///                                                    |\n",
        "\t|    //                                                      |\n",
        "\t|  //                                                        |\n",
        "\t| //                                                         |\n",
        "\t| /                                                          |\n",
        "\t|/                                                           |\n",
        "\t|/                                                           | 0.00\n",
        "\t-------------------------------------------------------------\n",
        "\t0.00                                                    1.00\n"
       ]
      }
     ],
     "prompt_number": 4
    },
    {
     "cell_type": "code",
     "collapsed": false,
     "input": [
      "x = -10:10\n",
      "y = x.^2\n",
      "lineplot(x, y)"
     ],
     "language": "python",
     "metadata": {},
     "outputs": [
      {
       "output_type": "stream",
       "stream": "stderr",
       "text": [
        "WARNING: A::Array - x::Number is deprecated, use A .- x instead.\n",
        " in lineplot at /home/natw/.julia/v0.3/ASCIIPlots/src/lineplot.jl:25\n",
        " in include_string at loading.jl:97\n",
        "WARNING: A::Array + x::Number is deprecated, use A .+ x instead.\n",
        " in lineplot at /home/natw/.julia/v0.3/ASCIIPlots/src/lineplot.jl:29\n",
        " in include_string at loading.jl:97\n"
       ]
      },
      {
       "output_type": "stream",
       "stream": "stderr",
       "text": [
        "WARNING: A::Array + x::Number is deprecated, use A .+ x instead.\n",
        " in lineplot at /home/natw/.julia/v0.3/ASCIIPlots/src/lineplot.jl:30\n",
        " in include_string at loading.jl:97\n"
       ]
      },
      {
       "metadata": {},
       "output_type": "pyout",
       "prompt_number": 5,
       "text": [
        "\n",
        "\t-------------------------------------------------------------\n",
        "\t|\\                                                          /| 100.00\n",
        "\t|                                                            |\n",
        "\t|                                                            |\n",
        "\t|                                                            |\n",
        "\t|  \\                                                     /   |\n",
        "\t|                                                            |\n",
        "\t|                                                            |\n",
        "\t|     \\                                               /      |\n",
        "\t|                                                            |\n",
        "\t|                                                            |\n",
        "\t|        \\                                         /         |\n",
        "\t|                                                            |\n",
        "\t|                                                            |\n",
        "\t|           \\                                   /            |\n",
        "\t|                                                            |\n",
        "\t|              \\                             /               |\n",
        "\t|                 \\                       /                  |\n",
        "\t|                                                            |\n",
        "\t|                    \\                 /                     |\n",
        "\t|                       \\  -  -  /  /                        | 0.00\n",
        "\t-------------------------------------------------------------\n",
        "\t-10.00                                                    10.00\n"
       ]
      }
     ],
     "prompt_number": 5
    },
    {
     "cell_type": "code",
     "collapsed": false,
     "input": [],
     "language": "python",
     "metadata": {},
     "outputs": []
    }
   ],
   "metadata": {}
  }
 ]
}